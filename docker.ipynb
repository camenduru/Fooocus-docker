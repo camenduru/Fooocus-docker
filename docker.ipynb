{
 "cells": [
  {
   "cell_type": "code",
   "execution_count": null,
   "metadata": {},
   "outputs": [],
   "source": [
    "!pip install -q udocker\n",
    "!udocker --allow-root install\n",
    "!udocker --allow-root pull camenduru/fooocus:latest\n",
    "!udocker --allow-root create --name=test fooocus:latest\n",
    "!udocker --allow-root setup --nvidia test\n",
    "\n",
    "!wget https://github.com/cloudflare/cloudflared/releases/latest/download/cloudflared-linux-amd64.deb -O /content/cloudflared-linux-amd64.deb\n",
    "!dpkg -i cloudflared-linux-amd64.deb\n",
    "import atexit, requests, subprocess, time, re\n",
    "from random import randint\n",
    "from threading import Timer\n",
    "from queue import Queue\n",
    "def cloudflared(port, metrics_port, output_queue):\n",
    "    atexit.register(lambda p: p.terminate(), subprocess.Popen(['cloudflared', 'tunnel', '--url', f'http://127.0.0.1:{port}', '--metrics', f'127.0.0.1:{metrics_port}'], stdout=subprocess.DEVNULL, stderr=subprocess.STDOUT))\n",
    "    attempts, tunnel_url = 0, None\n",
    "    while attempts < 10 and not tunnel_url:\n",
    "        attempts += 1\n",
    "        time.sleep(3)\n",
    "        try:\n",
    "            tunnel_url = re.search(\"(?P<url>https?:\\/\\/[^\\s]+.trycloudflare.com)\", requests.get(f'http://127.0.0.1:{metrics_port}/metrics').text).group(\"url\")\n",
    "        except:\n",
    "            pass\n",
    "    if not tunnel_url:\n",
    "        raise Exception(\"Can't connect to Cloudflare Edge\")\n",
    "    output_queue.put(tunnel_url)\n",
    "output_queue, metrics_port = Queue(), randint(8100, 9000)\n",
    "thread = Timer(2, cloudflared, args=(7860, metrics_port, output_queue))\n",
    "thread.start()\n",
    "thread.join()\n",
    "tunnel_url = output_queue.get()\n",
    "print(tunnel_url)\n",
    "\n",
    "!udocker --allow-root -q run test"
   ]
  }
 ],
 "metadata": {
  "language_info": {
   "name": "python"
  },
  "orig_nbformat": 4
 },
 "nbformat": 4,
 "nbformat_minor": 2
}
